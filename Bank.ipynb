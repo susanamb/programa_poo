{
 "metadata": {
  "language_info": {
   "codemirror_mode": {
    "name": "ipython",
    "version": 3
   },
   "file_extension": ".py",
   "mimetype": "text/x-python",
   "name": "python",
   "nbconvert_exporter": "python",
   "pygments_lexer": "ipython3",
   "version": "3.8.2"
  },
  "orig_nbformat": 2,
  "kernelspec": {
   "name": "python3",
   "display_name": "Python 3.8.2 64-bit",
   "metadata": {
    "interpreter": {
     "hash": "31f2aee4e71d21fbe5cf8b01ff0e069b9275f58929596ceb00d14d90e3e16cd6"
    }
   }
  }
 },
 "nbformat": 4,
 "nbformat_minor": 2,
 "cells": [
  {
   "cell_type": "code",
   "execution_count": 100,
   "metadata": {},
   "outputs": [],
   "source": [
    "#PARENT\n",
    "class User:\n",
    "    def __init__(self, name, age,card):\n",
    "        self.name = name          \n",
    "        self.age = age        \n",
    "        self.card = card\n",
    "\n",
    "    def details(self):\n",
    "        print(f\"Name: {self.name}\")\n",
    "        print(f\"Age: {self.age}\")\n",
    "        print(f\"Card number: {self.card}\")"
   ]
  },
  {
   "cell_type": "code",
   "execution_count": 101,
   "metadata": {},
   "outputs": [],
   "source": [
    "#CHILD\n",
    "class Bank(User):\n",
    "    def __init__(self,name,age,card):\n",
    "        super().__init__(name,age,card)\n",
    "        self.balance = 0\n",
    "       \n",
    "\n",
    "    def income(self,amount): #depositos o ingresos\n",
    "        self.balance = self.balance + amount\n",
    "        print(f\"{self.name} just add ${amount}\")\n",
    "        \n",
    "    \n",
    "    def expense(self,amount): #gastos o desembolso\n",
    "        self.amount = amount\n",
    "        money = self.__funds()\n",
    "        if money:\n",
    "            self.balance = self.balance - amount\n",
    "            print(f\"{self.name} just spend ${amount}\")\n",
    "        else:\n",
    "            print(\"No enough money\")\n",
    "            \n",
    "    def __funds(self):# see if the user have enough funds\n",
    "        if self.amount > self.balance:\n",
    "            return False\n",
    "        else:\n",
    "            return True\n",
    "\n",
    "    def details(self):\n",
    "        print(f\"{self.name}.\\nYour balance is: ${self.balance}\")\n"
   ]
  },
  {
   "cell_type": "code",
   "execution_count": 102,
   "metadata": {},
   "outputs": [
    {
     "output_type": "stream",
     "name": "stdout",
     "text": [
      "Susana just add $1000\nSusana just spend $730\nDudmit just add $700\nAlan just add $850\nDudmit just spend $196\nAlan just spend $350\n\nSusana.\nYour balance is: $270\nAlan.\nYour balance is: $500\nDudmit.\nYour balance is: $504\n"
     ]
    }
   ],
   "source": [
    "susana = Bank('Susana',22,123456)\n",
    "dudmit = Bank('Dudmit',26,987653)\n",
    "alan = Bank('Alan',24,654387)\n",
    "\n",
    "susana.income(1000)\n",
    "susana.expense(730)\n",
    "dudmit.income(700)\n",
    "alan.income(850)\n",
    "dudmit.expense(196)\n",
    "alan.expense(350)\n",
    "print()\n",
    "susana.details()\n",
    "alan.details()\n",
    "dudmit.details()\n"
   ]
  }
 ]
}